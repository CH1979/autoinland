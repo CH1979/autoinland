{
 "cells": [
  {
   "cell_type": "markdown",
   "metadata": {
    "id": "48S6RVt_jXwp"
   },
   "source": [
    "# AutoInland Vehicle Insurance Claim Challenge StarterNotebook - Python\n",
    "\n",
    "This is a simple starter notebook to get started with the AutoInland Vehicle Insurance Claim Challenge on Zindi.\n",
    "\n",
    "This notebook covers:\n",
    "- Loading the data\n",
    "- Simple EDA and an example of feature enginnering\n",
    "- Data preprocessing and data wrangling\n",
    "- Creating a simple model\n",
    "- Making a submission\n",
    "- Some tips for improving your score"
   ]
  },
  {
   "cell_type": "markdown",
   "metadata": {
    "id": "HdPjBTFdkI7t"
   },
   "source": [
    "### Importing libraries"
   ]
  },
  {
   "cell_type": "code",
   "execution_count": 1,
   "metadata": {
    "id": "8IWFJK2h22yc"
   },
   "outputs": [
    {
     "ename": "ModuleNotFoundError",
     "evalue": "No module named 'tqdm.notebook'",
     "output_type": "error",
     "traceback": [
      "\u001b[1;31m---------------------------------------------------------------------------\u001b[0m",
      "\u001b[1;31mModuleNotFoundError\u001b[0m                       Traceback (most recent call last)",
      "\u001b[1;32m<ipython-input-1-65108020d9c9>\u001b[0m in \u001b[0;36m<module>\u001b[1;34m()\u001b[0m\n\u001b[0;32m      2\u001b[0m \u001b[1;32mimport\u001b[0m \u001b[0mnumpy\u001b[0m \u001b[1;32mas\u001b[0m \u001b[0mnp\u001b[0m\u001b[1;33m\u001b[0m\u001b[0m\n\u001b[0;32m      3\u001b[0m \u001b[1;32mimport\u001b[0m \u001b[0mdatetime\u001b[0m \u001b[1;32mas\u001b[0m \u001b[0mdt\u001b[0m\u001b[1;33m\u001b[0m\u001b[0m\n\u001b[1;32m----> 4\u001b[1;33m \u001b[1;32mfrom\u001b[0m \u001b[0mtqdm\u001b[0m\u001b[1;33m.\u001b[0m\u001b[0mnotebook\u001b[0m \u001b[1;32mimport\u001b[0m \u001b[0mtqdm_notebook\u001b[0m\u001b[1;33m\u001b[0m\u001b[0m\n\u001b[0m\u001b[0;32m      5\u001b[0m \u001b[1;32mimport\u001b[0m \u001b[0mseaborn\u001b[0m \u001b[1;32mas\u001b[0m \u001b[0msns\u001b[0m\u001b[1;33m\u001b[0m\u001b[0m\n\u001b[0;32m      6\u001b[0m \u001b[1;32mimport\u001b[0m \u001b[0mmatplotlib\u001b[0m\u001b[1;33m.\u001b[0m\u001b[0mpyplot\u001b[0m \u001b[1;32mas\u001b[0m \u001b[0mplt\u001b[0m\u001b[1;33m\u001b[0m\u001b[0m\n",
      "\u001b[1;31mModuleNotFoundError\u001b[0m: No module named 'tqdm.notebook'"
     ]
    }
   ],
   "source": [
    "import pandas as pd\n",
    "import numpy as np\n",
    "import datetime as dt\n",
    "from tqdm.notebook import tqdm_notebook\n",
    "import seaborn as sns\n",
    "import matplotlib.pyplot as plt\n",
    "from sklearn.metrics import f1_score\n",
    "from lightgbm import LGBMClassifier\n",
    "from sklearn.model_selection import train_test_split\n",
    "import warnings\n",
    "warnings.filterwarnings('ignore')"
   ]
  },
  {
   "cell_type": "markdown",
   "metadata": {
    "id": "9SyQadB9iY8R"
   },
   "source": [
    "### Read files"
   ]
  },
  {
   "cell_type": "code",
   "execution_count": null,
   "metadata": {
    "id": "MQCvC_XjDzyH"
   },
   "outputs": [],
   "source": [
    "# Load files into a pandas dataframe\n",
    "train = pd.read_csv('data/Train.csv')\n",
    "test = pd.read_csv('data/Test.csv')\n",
    "ss = pd.read_csv('data/SampleSubmission.csv')"
   ]
  },
  {
   "cell_type": "markdown",
   "metadata": {
    "id": "MCP0H7tSicUU"
   },
   "source": [
    "### Some basic EDA"
   ]
  },
  {
   "cell_type": "code",
   "execution_count": null,
   "metadata": {
    "colab": {
     "base_uri": "https://localhost:8080/",
     "height": 195
    },
    "id": "Mcqp5mXG22ye",
    "outputId": "a9326a6d-9ea2-4c91-d038-534cc1e4c64f"
   },
   "outputs": [],
   "source": [
    "# Preview the first five rows of the train set\n",
    "train.head()"
   ]
  },
  {
   "cell_type": "code",
   "execution_count": null,
   "metadata": {
    "colab": {
     "base_uri": "https://localhost:8080/",
     "height": 279
    },
    "id": "XADqPrMo22yf",
    "outputId": "b389a03e-c9d5-40a5-886b-7317689c5eb8"
   },
   "outputs": [],
   "source": [
    "# Preview the first five rows of the test set\n",
    "test.head()"
   ]
  },
  {
   "cell_type": "code",
   "execution_count": null,
   "metadata": {
    "colab": {
     "base_uri": "https://localhost:8080/",
     "height": 195
    },
    "id": "iwZ0JOrk22yg",
    "outputId": "7a878636-f3d2-4a1a-cd74-f8623474ceb0"
   },
   "outputs": [],
   "source": [
    "# Preview the first five rows of the sample submission file\n",
    "ss.head()"
   ]
  },
  {
   "cell_type": "code",
   "execution_count": null,
   "metadata": {
    "colab": {
     "base_uri": "https://localhost:8080/"
    },
    "id": "PpiShcfRIM58",
    "outputId": "a88f8506-d00c-4ba2-d8e5-055630d22a9a"
   },
   "outputs": [],
   "source": [
    "# Check the shape of the train and test sets\n",
    "print(f'The shape of the train set is: {train.shape}\\nThe shape of the test set is: {test.shape}')"
   ]
  },
  {
   "cell_type": "code",
   "execution_count": null,
   "metadata": {
    "colab": {
     "base_uri": "https://localhost:8080/",
     "height": 446
    },
    "id": "PXnqoSeVJT1w",
    "outputId": "2e408179-ff08-4286-db45-9353556faf50"
   },
   "outputs": [],
   "source": [
    "# Check if there any missing values in train set\n",
    "ax = train.isna().sum().sort_values().plot(kind = 'barh', figsize = (10, 7))\n",
    "plt.title('Percentage of Missing Values Per Column in Train Set', fontdict={'size':15})\n",
    "for p in ax.patches:\n",
    "    percentage ='{:,.0f}%'.format((p.get_width()/train.shape[0])*100)\n",
    "    width, height =p.get_width(),p.get_height()\n",
    "    x=p.get_x()+width+0.02\n",
    "    y=p.get_y()+height/2\n",
    "    ax.annotate(percentage,(x,y))"
   ]
  },
  {
   "cell_type": "code",
   "execution_count": null,
   "metadata": {
    "colab": {
     "base_uri": "https://localhost:8080/",
     "height": 446
    },
    "id": "JvZQN_KMMhyH",
    "outputId": "b3e52142-44ed-4496-b5ef-21c58923f0b2"
   },
   "outputs": [],
   "source": [
    "# Check if there missing values in test set\n",
    "ax = test.isna().sum().sort_values().plot(kind = 'barh', figsize = (10, 7))\n",
    "plt.title('Percentage of Missing Values Per Column in Test Set', fontdict={'size':15})\n",
    "\n",
    "for p in ax.patches:\n",
    "    percentage ='{:,.1f}%'.format((p.get_width()/test.shape[0])*100)\n",
    "    width, height =p.get_width(),p.get_height()\n",
    "    x=p.get_x()+width+0.02\n",
    "    y=p.get_y()+height/2\n",
    "    ax.annotate(percentage,(x,y))"
   ]
  },
  {
   "cell_type": "markdown",
   "metadata": {
    "id": "oo9bQICy22yi"
   },
   "source": [
    "## Combine train and test set for easy preprocessing "
   ]
  },
  {
   "cell_type": "code",
   "execution_count": null,
   "metadata": {
    "colab": {
     "base_uri": "https://localhost:8080/"
    },
    "id": "LMBnOTvv22yi",
    "outputId": "aa3732b6-e781-409d-b36a-23a5f7d801e6"
   },
   "outputs": [],
   "source": [
    "# Combine train and test set\n",
    "ntrain = train.shape[0] # to be used to split train and test set from the combined dataframe\n",
    "\n",
    "all_data = pd.concat((train, test)).reset_index(drop=True)\n",
    "print(f'The shape of the combined dataframe is: {all_data.shape}')"
   ]
  },
  {
   "cell_type": "code",
   "execution_count": null,
   "metadata": {
    "colab": {
     "base_uri": "https://localhost:8080/",
     "height": 229
    },
    "id": "Enhuekp922yj",
    "outputId": "cbd3c921-fcc3-42f6-de2e-6cf9cc0b02b2"
   },
   "outputs": [],
   "source": [
    "# Preview the last five rows of the combined dataframe\n",
    "all_data.tail()"
   ]
  },
  {
   "cell_type": "code",
   "execution_count": null,
   "metadata": {
    "colab": {
     "base_uri": "https://localhost:8080/"
    },
    "id": "Zmhi38ur22yj",
    "outputId": "b70fdb83-6e8a-4d1d-c7e0-7461d6ef10ac"
   },
   "outputs": [],
   "source": [
    "# Check the column names and datatypes\n",
    "all_data.info()"
   ]
  },
  {
   "cell_type": "code",
   "execution_count": null,
   "metadata": {
    "colab": {
     "base_uri": "https://localhost:8080/"
    },
    "id": "lErcKRUdRPCu",
    "outputId": "e2ab033e-4485-4b7c-eabd-aa50184494ed"
   },
   "outputs": [],
   "source": [
    "# Change each column to its appriopriate datatype\n",
    "date_cols = [col for col in all_data.columns if 'Date' in col]\n",
    "num_cols = ['Age', 'No_Pol']\n",
    "cat_cols = [col for col in all_data.columns if col not in date_cols+num_cols+['ID', 'target']]\n",
    "\n",
    "for col in all_data.columns:\n",
    "  if col in date_cols:\n",
    "    all_data[col] = pd.to_datetime(all_data[col])\n",
    "  elif col in cat_cols:\n",
    "    all_data[col] = all_data[col].astype('category')\n",
    "\n",
    "# Confirm whether the changes have been applied successfully\n",
    "all_data.info()"
   ]
  },
  {
   "cell_type": "markdown",
   "metadata": {
    "id": "pL-uhhyKUHWw"
   },
   "source": [
    "### Distribution of the target variable"
   ]
  },
  {
   "cell_type": "code",
   "execution_count": null,
   "metadata": {
    "colab": {
     "base_uri": "https://localhost:8080/",
     "height": 296
    },
    "id": "lYzk7oDe22ym",
    "outputId": "230e7f80-d204-46b6-a66f-7dab63acef3b"
   },
   "outputs": [],
   "source": [
    "sns.countplot(train.target)\n",
    "plt.title('Target Distribution', fontdict={'size':14});"
   ]
  },
  {
   "cell_type": "markdown",
   "metadata": {
    "id": "feOHk7mRheOQ"
   },
   "source": [
    "### Distribution of the Gender column"
   ]
  },
  {
   "cell_type": "code",
   "execution_count": null,
   "metadata": {
    "colab": {
     "base_uri": "https://localhost:8080/",
     "height": 446
    },
    "id": "gLFQ8acB22yp",
    "outputId": "754f73d1-750f-4489-98a8-c4c874ab521f"
   },
   "outputs": [],
   "source": [
    "# Gender distribution \n",
    "ax = all_data.Gender.value_counts().sort_values().plot(kind = 'barh', figsize=(10,7))\n",
    "plt.title('Gender Distribution', fontdict={'size': 15})\n",
    "for p in ax.patches:\n",
    "  percentage ='{:,.1f}%'.format((p.get_width()/all_data.shape[0])*100)\n",
    "  width, height =p.get_width(),p.get_height()\n",
    "  x=p.get_x()+width+0.02\n",
    "  y=p.get_y()+height/2\n",
    "  ax.annotate(percentage,(x,y))"
   ]
  },
  {
   "cell_type": "code",
   "execution_count": null,
   "metadata": {
    "colab": {
     "base_uri": "https://localhost:8080/"
    },
    "id": "nialRZ4hWhMW",
    "outputId": "d0282bec-7dec-4c18-e90c-b86e9817dd7b"
   },
   "outputs": [],
   "source": [
    "mapper = {'Entity':'Other', 'Joint Gender':'Other', 'NOT STATED':'Other', 'NO GENDER': 'Other', 'SEX':\"Other\"}\n",
    "all_data.Gender = all_data.Gender.replace(mapper)\n",
    "\n",
    "# Confirm mappings\n",
    "all_data.Gender.value_counts()"
   ]
  },
  {
   "cell_type": "markdown",
   "metadata": {
    "id": "7rZ9LClahj5F"
   },
   "source": [
    "### Number of unique values per categorical column"
   ]
  },
  {
   "cell_type": "code",
   "execution_count": null,
   "metadata": {
    "colab": {
     "base_uri": "https://localhost:8080/"
    },
    "id": "rOd8usWw22yp",
    "outputId": "dd5e9ed1-c566-4ae5-d881-c9eb26ba28e9"
   },
   "outputs": [],
   "source": [
    "# Check unique values for each categorical column\n",
    "for col in cat_cols:\n",
    "  print(col)\n",
    "  print(all_data[col].unique(), '\\n')"
   ]
  },
  {
   "cell_type": "markdown",
   "metadata": {
    "id": "2akc9eF-hsWo"
   },
   "source": [
    "### Filling in missing values\n",
    "#### Missing values can be filled using different strategies\n",
    "Tips:\n",
    " - Mean\n",
    " - Max\n",
    " - Min\n",
    " - [sklearn SimpleImputer](https://scikit-learn.org/stable/modules/generated/sklearn.impute.SimpleImputer.html)\n",
    " - Others... do more reasearch"
   ]
  },
  {
   "cell_type": "code",
   "execution_count": null,
   "metadata": {
    "colab": {
     "base_uri": "https://localhost:8080/"
    },
    "id": "E61_c9DZYkuu",
    "outputId": "44b08ab0-3223-46f2-bc42-0a905a527883"
   },
   "outputs": [],
   "source": [
    "# Fill in missing values\n",
    "# For cat cols and date cols fill in with mode and for num cols fill in with 9999\n",
    "for col in all_data.columns:\n",
    "  if col in date_cols+cat_cols:\n",
    "    all_data[col] = all_data[col].fillna(all_data[col].mode()[0])\n",
    "  elif col in num_cols:\n",
    "    all_data[col] = all_data[col].fillna(all_data[col].fillna(9999))\n",
    "\n",
    "# Confirm that there aren't any missing values\n",
    "all_data[all_data.columns.difference(['target'])].isna().sum()"
   ]
  },
  {
   "cell_type": "markdown",
   "metadata": {
    "id": "Ppmv1kB5hvWs"
   },
   "source": [
    "### Feature Engineering\n",
    "#### Alot of features can be extracted from dates\n",
    "Tips:\n",
    " - Quarter, Start of Year, month?\n",
    " - Is it a weekend, weekday?\n",
    " - Is it a holiday\n",
    " - Duration between different periods, e.g start and end of a policy\n",
    " - What features can be derived from the age column\n",
    " - Be creative 😉"
   ]
  },
  {
   "cell_type": "code",
   "execution_count": null,
   "metadata": {
    "colab": {
     "base_uri": "https://localhost:8080/",
     "height": 333
    },
    "id": "3ELOMgf3awEe",
    "outputId": "ad661bb6-4718-455e-84d2-ead392ed00c7"
   },
   "outputs": [],
   "source": [
    "# Extract date features from the date columns\n",
    "for col in date_cols:\n",
    "  for date_feature in ['year', 'month', 'day']:\n",
    "    all_data[col+date_feature] = getattr(all_data[col].dt, date_feature)\n",
    "\n",
    "all_data.head()"
   ]
  },
  {
   "cell_type": "markdown",
   "metadata": {
    "id": "XOnSMk9im9EC"
   },
   "source": [
    "#### Try different strategies of dealing with categorical variables\n",
    "Tips:\n",
    " - One hot encoding\n",
    " - Label encoding\n",
    " - Target encoding\n",
    " - Reduce the number of unique values..."
   ]
  },
  {
   "cell_type": "code",
   "execution_count": null,
   "metadata": {
    "colab": {
     "base_uri": "https://localhost:8080/",
     "height": 362
    },
    "id": "hzZXqfvE22y9",
    "outputId": "422be2fb-2657-4d3a-c97a-5f81a2736170"
   },
   "outputs": [],
   "source": [
    "# Encode categorical features\n",
    "all_data = pd.get_dummies(data = all_data, columns = cat_cols)\n",
    "all_data.head()"
   ]
  },
  {
   "cell_type": "code",
   "execution_count": null,
   "metadata": {
    "colab": {
     "base_uri": "https://localhost:8080/"
    },
    "id": "BibprFWLdRAy",
    "outputId": "f48a22bd-dee0-4be3-e103-ffc34bb43b62"
   },
   "outputs": [],
   "source": [
    "# Separate train and test data from the combined dataframe\n",
    "train_df = all_data[:ntrain]\n",
    "test_df = all_data[ntrain:]\n",
    "\n",
    "# Check the shapes of the split dataset\n",
    "train_df.shape, test_df.shape"
   ]
  },
  {
   "cell_type": "markdown",
   "metadata": {
    "id": "Rv9axjwXh2Ij"
   },
   "source": [
    "### Training and making predictions\n",
    "Tips:\n",
    "- Is lgbm the best model for this challenge?\n",
    "- Parameter tuning\n",
    " - Grid search, random search, perhaps bayesian search works better...\n",
    "\n"
   ]
  },
  {
   "cell_type": "code",
   "execution_count": null,
   "metadata": {
    "colab": {
     "base_uri": "https://localhost:8080/"
    },
    "id": "w0EL1Fk222y-",
    "outputId": "7c5142f0-8ed0-4a67-a5da-e930abe0b8f7"
   },
   "outputs": [],
   "source": [
    "# Select main columns to be used in training\n",
    "main_cols = all_data.columns.difference(date_cols+['ID', 'target'])\n",
    "X = train_df[main_cols]\n",
    "y = train_df.target\n",
    "\n",
    "# Split data into train and test sets\n",
    "X_train, X_test, y_train, y_test = train_test_split(X,y,test_size=0.3, random_state=42)\n",
    "\n",
    "# Train model\n",
    "model = LGBMClassifier()\n",
    "model.fit(X_train, y_train)\n",
    "\n",
    "# Make predictions\n",
    "y_pred = model.predict(X_test)\n",
    "\n",
    "# Check the f1 score of the model\n",
    "print(f'F1 score on the X_test is: {f1_score(y_test, y_pred)}')"
   ]
  },
  {
   "cell_type": "markdown",
   "metadata": {
    "id": "WZ6h0Ho3qOCV"
   },
   "source": [
    "#### [More on F1 Score](https://en.wikipedia.org/wiki/F-score)"
   ]
  },
  {
   "cell_type": "markdown",
   "metadata": {
    "id": "k_LHEtrph7Kk"
   },
   "source": [
    "### Making predictions of the test set and creating a submission file"
   ]
  },
  {
   "cell_type": "code",
   "execution_count": null,
   "metadata": {
    "colab": {
     "base_uri": "https://localhost:8080/",
     "height": 265
    },
    "id": "OP8EX6NZfSCP",
    "outputId": "cfdc1bfb-8f7a-40b3-9a6a-6613b7b3193b"
   },
   "outputs": [],
   "source": [
    "# Make prediction on the test set\n",
    "test_df = test_df[main_cols]\n",
    "predictions = model.predict(test_df)\n",
    "\n",
    "# Create a submission file\n",
    "sub_file = ss.copy()\n",
    "sub_file.predictions = predictions\n",
    "\n",
    "# Check the distribution of your predictions\n",
    "sns.countplot(sub_file.predictions);"
   ]
  },
  {
   "cell_type": "code",
   "execution_count": null,
   "metadata": {
    "id": "sm_jTS4022y-"
   },
   "outputs": [],
   "source": [
    "# Create a csv file and upload to zindi \n",
    "sub_file.to_csv('Baseline.csv', index = False)"
   ]
  },
  {
   "cell_type": "markdown",
   "metadata": {
    "id": "ttQqWBi722zE"
   },
   "source": [
    "###More Tips\n",
    "- Thorough EDA and domain knowledge sourcing\n",
    "- Re-group Categorical features \n",
    "- More Feature Engineering \n",
    "- Dataset balancing - oversampling, undersampling, SMOTE...\n",
    "- Ensembling of models \n",
    "- Cross-validation: Group folds, Stratified..."
   ]
  },
  {
   "cell_type": "markdown",
   "metadata": {
    "id": "uXftXbo622zF"
   },
   "source": [
    "# ******************* GOOD LUCK!!! ***************************"
   ]
  }
 ],
 "metadata": {
  "colab": {
   "collapsed_sections": [],
   "name": "AXA-Python_StarterNotebook.ipynb",
   "provenance": []
  },
  "kernelspec": {
   "display_name": "Python 3",
   "language": "python",
   "name": "python3"
  },
  "language_info": {
   "codemirror_mode": {
    "name": "ipython",
    "version": 3
   },
   "file_extension": ".py",
   "mimetype": "text/x-python",
   "name": "python",
   "nbconvert_exporter": "python",
   "pygments_lexer": "ipython3",
   "version": "3.6.4"
  }
 },
 "nbformat": 4,
 "nbformat_minor": 1
}
